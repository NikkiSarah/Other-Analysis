{
 "cells": [
  {
   "cell_type": "markdown",
   "id": "887a1177-8f23-4bf0-8be1-75de078d7620",
   "metadata": {},
   "source": [
    "# **End-to-end ML PySpark Tutorial**"
   ]
  },
  {
   "cell_type": "code",
   "execution_count": 81,
   "id": "45096ea9-b49d-4124-95ed-55e8b0ec8a93",
   "metadata": {
    "tags": []
   },
   "outputs": [],
   "source": [
    "# general\n",
    "import numpy as np\n",
    "import pandas as pd\n",
    "import pyspark\n",
    "from pyspark.sql import SparkSession\n",
    "\n",
    "# EDA and pre-processing\n",
    "from pyspark.sql.functions import *\n",
    "from pyspark.sql.types import *\n",
    "\n",
    "from pyspark.ml.feature import StandardScaler, VectorAssembler\n",
    "\n",
    "# clustering\n",
    "from pyspark.ml.clustering import KMeans\n",
    "from pyspark.ml.evaluation import ClusteringEvaluator\n",
    "\n",
    "# visualisation\n",
    "import matplotlib.pyplot as plt\n",
    "import pylab as pl\n",
    "import seaborn as sns"
   ]
  },
  {
   "cell_type": "markdown",
   "id": "c5d4e0d8-d9ca-40a9-9215-f1ff4af73937",
   "metadata": {},
   "source": [
    "## **Step 1: Create a SparkSession**\n",
    "\n",
    "A SparkSession is an entry point into all functionality in Spark, and is required if you want to build a dataframe in PySpark.\n",
    "\n",
    "In the code below, we:\n",
    "- built a spark session\n",
    "- gave it a name\n",
    "- cached the data in off-heap memory to avoid storing it directly on disk\n",
    "- manally specified the amount of memory"
   ]
  },
  {
   "cell_type": "code",
   "execution_count": 3,
   "id": "ae99cb1f-c196-4aed-bd0f-e3f2509f1762",
   "metadata": {
    "tags": []
   },
   "outputs": [],
   "source": [
    "spark = SparkSession.builder.appName(\"Datacamp Pyspark Tutorial\").config(\"spark.memory.offHeap.enabled\", \"true\").config(\"spark.memory.offHeap.size\", \"10g\").getOrCreate()"
   ]
  },
  {
   "cell_type": "markdown",
   "id": "8488af32-88a9-4c9f-a7a2-f4c7ea7263da",
   "metadata": {},
   "source": [
    "## **Step 2: Create a DataFrame**\n",
    "\n",
    "Read in the downloaded data. Note that we define an escape character to avoid commas in the csv file when parsing.\n",
    "\n",
    "View the head of the dataframe with `show()`."
   ]
  },
  {
   "cell_type": "code",
   "execution_count": 48,
   "id": "4820bff1-6459-40b0-b498-d55664382ca1",
   "metadata": {
    "tags": []
   },
   "outputs": [
    {
     "name": "stdout",
     "output_type": "stream",
     "text": [
      "+---------+---------+-----------------------------------+--------+------------+---------+----------+--------------+\n",
      "|InvoiceNo|StockCode|Description                        |Quantity|InvoiceDate |UnitPrice|CustomerID|Country       |\n",
      "+---------+---------+-----------------------------------+--------+------------+---------+----------+--------------+\n",
      "|536365   |85123A   |WHITE HANGING HEART T-LIGHT HOLDER |6       |12/1/10 8:26|2.55     |17850     |United Kingdom|\n",
      "|536365   |71053    |WHITE METAL LANTERN                |6       |12/1/10 8:26|3.39     |17850     |United Kingdom|\n",
      "|536365   |84406B   |CREAM CUPID HEARTS COAT HANGER     |8       |12/1/10 8:26|2.75     |17850     |United Kingdom|\n",
      "|536365   |84029G   |KNITTED UNION FLAG HOT WATER BOTTLE|6       |12/1/10 8:26|3.39     |17850     |United Kingdom|\n",
      "|536365   |84029E   |RED WOOLLY HOTTIE WHITE HEART.     |6       |12/1/10 8:26|3.39     |17850     |United Kingdom|\n",
      "|536365   |22752    |SET 7 BABUSHKA NESTING BOXES       |2       |12/1/10 8:26|7.65     |17850     |United Kingdom|\n",
      "|536365   |21730    |GLASS STAR FROSTED T-LIGHT HOLDER  |6       |12/1/10 8:26|4.25     |17850     |United Kingdom|\n",
      "|536366   |22633    |HAND WARMER UNION JACK             |6       |12/1/10 8:28|1.85     |17850     |United Kingdom|\n",
      "|536366   |22632    |HAND WARMER RED POLKA DOT          |6       |12/1/10 8:28|1.85     |17850     |United Kingdom|\n",
      "|536367   |84879    |ASSORTED COLOUR BIRD ORNAMENT      |32      |12/1/10 8:34|1.69     |13047     |United Kingdom|\n",
      "+---------+---------+-----------------------------------+--------+------------+---------+----------+--------------+\n",
      "only showing top 10 rows\n",
      "\n"
     ]
    }
   ],
   "source": [
    "df = spark.read.csv('online_retail.csv', header=True, escape=\"\\\"\")\n",
    "df.show(10, 0)"
   ]
  },
  {
   "cell_type": "markdown",
   "id": "ff200ef4-1e4f-4ffa-82ed-410043de5509",
   "metadata": {},
   "source": [
    "## **Step 3: Exploratory Data Analysis**"
   ]
  },
  {
   "cell_type": "code",
   "execution_count": 52,
   "id": "5bbe81b5-a697-4bfd-abc3-1849d718b64c",
   "metadata": {
    "tags": []
   },
   "outputs": [
    {
     "data": {
      "text/plain": [
       "541909"
      ]
     },
     "execution_count": 52,
     "metadata": {},
     "output_type": "execute_result"
    }
   ],
   "source": [
    "# count the number of rows\n",
    "df.count()"
   ]
  },
  {
   "cell_type": "code",
   "execution_count": 53,
   "id": "fb7b31fa-c062-403e-971b-bdd9b33ae386",
   "metadata": {
    "tags": []
   },
   "outputs": [
    {
     "data": {
      "text/plain": [
       "4373"
      ]
     },
     "execution_count": 53,
     "metadata": {},
     "output_type": "execute_result"
    }
   ],
   "source": [
    "# how many unique customers are present?\n",
    "df.select('CustomerID').distinct().count()"
   ]
  },
  {
   "cell_type": "code",
   "execution_count": 54,
   "id": "14a893be-9eff-40e7-bb07-0523294e45a8",
   "metadata": {
    "tags": []
   },
   "outputs": [
    {
     "name": "stdout",
     "output_type": "stream",
     "text": [
      "+---------------+-------------+\n",
      "|        Country|country_count|\n",
      "+---------------+-------------+\n",
      "| United Kingdom|         3950|\n",
      "|        Germany|           95|\n",
      "|         France|           87|\n",
      "|          Spain|           31|\n",
      "|        Belgium|           25|\n",
      "|    Switzerland|           21|\n",
      "|       Portugal|           19|\n",
      "|          Italy|           15|\n",
      "|        Finland|           12|\n",
      "|        Austria|           11|\n",
      "|         Norway|           10|\n",
      "|        Denmark|            9|\n",
      "|Channel Islands|            9|\n",
      "|      Australia|            9|\n",
      "|    Netherlands|            9|\n",
      "|         Sweden|            8|\n",
      "|         Cyprus|            8|\n",
      "|          Japan|            8|\n",
      "|         Poland|            6|\n",
      "|         Greece|            4|\n",
      "+---------------+-------------+\n",
      "only showing top 20 rows\n",
      "\n"
     ]
    }
   ],
   "source": [
    "# what country do most purchases come from?\n",
    "# df.groupby('Country').agg(countDistinct('CustomerID').alias('country_count')).show()\n",
    "# in descending order\n",
    "df.groupby('Country').agg(countDistinct('CustomerID').alias('country_count')).orderBy(desc('country_count')).show()"
   ]
  },
  {
   "cell_type": "code",
   "execution_count": 55,
   "id": "8eba2e94-d068-4c1d-90fe-74cbcc93ee93",
   "metadata": {
    "tags": []
   },
   "outputs": [
    {
     "name": "stdout",
     "output_type": "stream",
     "text": [
      "+-------------------+\n",
      "|          max(date)|\n",
      "+-------------------+\n",
      "|2011-12-10 17:19:00|\n",
      "+-------------------+\n",
      "\n"
     ]
    }
   ],
   "source": [
    "# when was the most recent purchase made by a customer?\n",
    "spark.sql(\"set spark.sql.legacy.timeParserPolicy=LEGACY\")\n",
    "\n",
    "# need to convert InvoiceDate into a timestamp format\n",
    "df = df.withColumn('date', to_timestamp(\"InvoiceDate\", 'dd/MM/yy HH:mm'))\n",
    "df.select(max(\"date\")).show()"
   ]
  },
  {
   "cell_type": "code",
   "execution_count": 56,
   "id": "326fb9f3-027e-4720-ad2a-901daa98b3a6",
   "metadata": {
    "tags": []
   },
   "outputs": [
    {
     "name": "stdout",
     "output_type": "stream",
     "text": [
      "+-------------------+\n",
      "|          min(date)|\n",
      "+-------------------+\n",
      "|2010-01-12 08:26:00|\n",
      "+-------------------+\n",
      "\n"
     ]
    }
   ],
   "source": [
    "# when was the oldest purchase made by a customer\n",
    "df.select(min(\"date\")).show()"
   ]
  },
  {
   "cell_type": "markdown",
   "id": "b2d89a1f-fcf4-405d-be3a-ab5f9ae8bfce",
   "metadata": {},
   "source": [
    "The dates above indicate that there is around two years of purchase data in the file."
   ]
  },
  {
   "cell_type": "markdown",
   "id": "4d1e3b5e-2702-48b1-bcee-0703ce48ef7b",
   "metadata": {
    "tags": []
   },
   "source": [
    "## **Step 4: Data Pre-processing**"
   ]
  },
  {
   "cell_type": "code",
   "execution_count": 61,
   "id": "51592193-88e9-4c20-977a-d334c76a0ca0",
   "metadata": {
    "tags": []
   },
   "outputs": [
    {
     "name": "stdout",
     "output_type": "stream",
     "text": [
      "+---------+---------+-----------------------------------+--------+------------+---------+----------+--------------+-------------------+\n",
      "|InvoiceNo|StockCode|Description                        |Quantity|InvoiceDate |UnitPrice|CustomerID|Country       |date               |\n",
      "+---------+---------+-----------------------------------+--------+------------+---------+----------+--------------+-------------------+\n",
      "|536365   |85123A   |WHITE HANGING HEART T-LIGHT HOLDER |6       |12/1/10 8:26|2.55     |17850     |United Kingdom|2010-01-12 08:26:00|\n",
      "|536365   |71053    |WHITE METAL LANTERN                |6       |12/1/10 8:26|3.39     |17850     |United Kingdom|2010-01-12 08:26:00|\n",
      "|536365   |84406B   |CREAM CUPID HEARTS COAT HANGER     |8       |12/1/10 8:26|2.75     |17850     |United Kingdom|2010-01-12 08:26:00|\n",
      "|536365   |84029G   |KNITTED UNION FLAG HOT WATER BOTTLE|6       |12/1/10 8:26|3.39     |17850     |United Kingdom|2010-01-12 08:26:00|\n",
      "|536365   |84029E   |RED WOOLLY HOTTIE WHITE HEART.     |6       |12/1/10 8:26|3.39     |17850     |United Kingdom|2010-01-12 08:26:00|\n",
      "+---------+---------+-----------------------------------+--------+------------+---------+----------+--------------+-------------------+\n",
      "only showing top 5 rows\n",
      "\n"
     ]
    }
   ],
   "source": [
    "df.show(5, 0)"
   ]
  },
  {
   "cell_type": "markdown",
   "id": "48fc920d-378a-41b1-9d71-1557d90155f3",
   "metadata": {},
   "source": [
    "We will be creating multiple customer segments based on each user's purchase behaviour. However, the variables are in a format not easily ingested into a customer segmentation model and individually do not tell us much about customer purchase behaviour.\n",
    "\n",
    "We will be deriving three more informative variables:\n",
    "- Recency: How recently has each customer made a purchase?\n",
    "- Frequency: How often has each customer made a purchase?\n",
    "- Monetary Value: How much money do they spend on average when making a purchase?"
   ]
  },
  {
   "cell_type": "code",
   "execution_count": 65,
   "id": "b67c42c7-8d76-4723-866a-72a8dee697ba",
   "metadata": {
    "tags": []
   },
   "outputs": [
    {
     "name": "stdout",
     "output_type": "stream",
     "text": [
      "+-------+---------+---------+-----------------------------------+--------+------------+---------+----------+--------------+-------------------+-------------------+\n",
      "|recency|InvoiceNo|StockCode|Description                        |Quantity|InvoiceDate |UnitPrice|CustomerID|Country       |date               |from_date          |\n",
      "+-------+---------+---------+-----------------------------------+--------+------------+---------+----------+--------------+-------------------+-------------------+\n",
      "|5220   |536384   |82484    |WOOD BLACK BOARD ANT WHITE FINISH  |3       |12/1/10 9:53|6.45     |18074     |United Kingdom|2010-01-12 09:53:00|2010-01-12 08:26:00|\n",
      "|5220   |536384   |84755    |COLOUR GLASS T-LIGHT HOLDER HANGING|48      |12/1/10 9:53|0.65     |18074     |United Kingdom|2010-01-12 09:53:00|2010-01-12 08:26:00|\n",
      "|5220   |536384   |22464    |HANGING METAL HEART LANTERN        |12      |12/1/10 9:53|1.65     |18074     |United Kingdom|2010-01-12 09:53:00|2010-01-12 08:26:00|\n",
      "|5220   |536384   |21324    |HANGING MEDINA LANTERN SMALL       |6       |12/1/10 9:53|2.95     |18074     |United Kingdom|2010-01-12 09:53:00|2010-01-12 08:26:00|\n",
      "|5220   |536384   |22457    |NATURAL SLATE HEART CHALKBOARD     |12      |12/1/10 9:53|2.95     |18074     |United Kingdom|2010-01-12 09:53:00|2010-01-12 08:26:00|\n",
      "+-------+---------+---------+-----------------------------------+--------+------------+---------+----------+--------------+-------------------+-------------------+\n",
      "only showing top 5 rows\n",
      "\n"
     ]
    }
   ],
   "source": [
    "# assign a recency score to each purchase\n",
    "df = df.withColumn(\"from_date\", lit(\"12/1/10 8:26\"))\n",
    "df = df.withColumn('from_date', to_timestamp(\"from_date\", 'dd/MM/yy HH:mm'))\n",
    "\n",
    "df2 = df.withColumn('from_date', to_timestamp(col('from_date'))).withColumn('recency', col(\"date\").cast(\"long\") - col('from_date').cast(\"long\"))\n",
    "\n",
    "# select the most recent purchase for each customer\n",
    "df2 = df2.join(df2.groupBy('CustomerID').agg(max('recency').alias('recency')), on='recency', how='leftsemi')\n",
    "\n",
    "# view the first few rows of the new dataframe\n",
    "df2.show(5, 0)"
   ]
  },
  {
   "cell_type": "code",
   "execution_count": 67,
   "id": "e413cf48-2631-4029-95e3-a6b927dd7db8",
   "metadata": {
    "tags": []
   },
   "outputs": [
    {
     "name": "stdout",
     "output_type": "stream",
     "text": [
      "root\n",
      " |-- recency: long (nullable = true)\n",
      " |-- InvoiceNo: string (nullable = true)\n",
      " |-- StockCode: string (nullable = true)\n",
      " |-- Description: string (nullable = true)\n",
      " |-- Quantity: string (nullable = true)\n",
      " |-- InvoiceDate: string (nullable = true)\n",
      " |-- UnitPrice: string (nullable = true)\n",
      " |-- CustomerID: string (nullable = true)\n",
      " |-- Country: string (nullable = true)\n",
      " |-- date: timestamp (nullable = true)\n",
      " |-- from_date: timestamp (nullable = true)\n",
      "\n"
     ]
    }
   ],
   "source": [
    "# view the schema (equivalent to info() function in Pandas)\n",
    "df2.printSchema()"
   ]
  },
  {
   "cell_type": "code",
   "execution_count": 68,
   "id": "10b35a63-f98b-43eb-b96d-6c11de44c2bf",
   "metadata": {
    "tags": []
   },
   "outputs": [
    {
     "name": "stdout",
     "output_type": "stream",
     "text": [
      "+----------+---------+\n",
      "|CustomerID|frequency|\n",
      "+----------+---------+\n",
      "|16250     |14       |\n",
      "|15574     |121      |\n",
      "|13610     |20       |\n",
      "|16320     |47       |\n",
      "|13282     |1        |\n",
      "+----------+---------+\n",
      "only showing top 5 rows\n",
      "\n"
     ]
    }
   ],
   "source": [
    "# assign a frequency to each customer\n",
    "df_freq = df2.groupBy('CustomerID').agg(count('InvoiceDate').alias('frequency'))\n",
    "df_freq.show(5, 0)"
   ]
  },
  {
   "cell_type": "code",
   "execution_count": 69,
   "id": "218b7690-ae8d-4b35-8bd0-30cefc9d7114",
   "metadata": {
    "tags": []
   },
   "outputs": [
    {
     "name": "stdout",
     "output_type": "stream",
     "text": [
      "root\n",
      " |-- CustomerID: string (nullable = true)\n",
      " |-- recency: long (nullable = true)\n",
      " |-- InvoiceNo: string (nullable = true)\n",
      " |-- StockCode: string (nullable = true)\n",
      " |-- Description: string (nullable = true)\n",
      " |-- Quantity: string (nullable = true)\n",
      " |-- InvoiceDate: string (nullable = true)\n",
      " |-- UnitPrice: string (nullable = true)\n",
      " |-- Country: string (nullable = true)\n",
      " |-- date: timestamp (nullable = true)\n",
      " |-- from_date: timestamp (nullable = true)\n",
      " |-- frequency: long (nullable = false)\n",
      "\n"
     ]
    }
   ],
   "source": [
    "# join the dataframes together\n",
    "df3 = df2.join(df_freq, on='CustomerID', how='inner')\n",
    "df3.printSchema()"
   ]
  },
  {
   "cell_type": "code",
   "execution_count": 70,
   "id": "e7f8d1aa-2e41-4dcf-b66d-3836b53c4d34",
   "metadata": {
    "tags": []
   },
   "outputs": [
    {
     "name": "stdout",
     "output_type": "stream",
     "text": [
      "+--------+---------+------------------+----------+\n",
      "|recency |frequency|monetary_value    |CustomerID|\n",
      "+--------+---------+------------------+----------+\n",
      "|5580    |14       |226.14            |16250     |\n",
      "|2704800 |121      |375.65            |15574     |\n",
      "|54453660|20       |110.55000000000001|13610     |\n",
      "|54543900|47       |852.6800000000002 |16320     |\n",
      "|59799420|1        |-2.55             |13282     |\n",
      "+--------+---------+------------------+----------+\n",
      "only showing top 5 rows\n",
      "\n"
     ]
    }
   ],
   "source": [
    "# calculate the total amount spent by each customer\n",
    "# step 1: find the total amount spent in each purchase\n",
    "m_val = df3.withColumn('TotalAmount', col('Quantity') * col('UnitPrice'))\n",
    "# step 2: find the total amount spent by each customer\n",
    "m_val = m_val.groupBy('CustomerID').agg(sum('TotalAmount').alias('monetary_value'))\n",
    "\n",
    "# merge this data with the other variables\n",
    "final_df = m_val.join(df3, on='CustomerID', how='inner')\n",
    "# select only wanted columns and drop duplicate rows\n",
    "final_df = final_df.select(['recency', 'frequency', 'monetary_value', 'CustomerID']).distinct()\n",
    "final_df.show(5, 0)"
   ]
  },
  {
   "cell_type": "markdown",
   "id": "eb7e1bd1-60b1-459a-8daa-e9dbe7332aed",
   "metadata": {},
   "source": [
    "**Standardisation**\n",
    "\n",
    "Standardise the data to ensure that all variables are on the same scale."
   ]
  },
  {
   "cell_type": "code",
   "execution_count": 72,
   "id": "5cf75359-d55f-4cfc-b6ba-a678aaf91dbe",
   "metadata": {
    "tags": []
   },
   "outputs": [
    {
     "name": "stdout",
     "output_type": "stream",
     "text": [
      "+---------------------------------------------------------------+\n",
      "|standardised                                                   |\n",
      "+---------------------------------------------------------------+\n",
      "|[4.5655434635006486E-4,0.45450804304970194,0.07578116853200018]|\n",
      "|[0.22130612831678412,3.928248086358138,0.1258830634078264]     |\n",
      "+---------------------------------------------------------------+\n",
      "only showing top 2 rows\n",
      "\n"
     ]
    }
   ],
   "source": [
    "assemble = VectorAssembler(inputCols=['recency', 'frequency', 'monetary_value'], outputCol='features')\n",
    "assembled_data = assemble.transform(final_df)\n",
    "\n",
    "scale = StandardScaler(inputCol='features', outputCol='standardised')\n",
    "data_scale = scale.fit(assembled_data)\n",
    "data_scale_output = data_scale.transform(assembled_data)\n",
    "\n",
    "# view the standardised feature vector\n",
    "data_scale_output.select('standardised').show(2, truncate=False)"
   ]
  },
  {
   "cell_type": "markdown",
   "id": "2556ccc7-55e2-4d50-8782-65bf83990620",
   "metadata": {},
   "source": [
    "## **Step 5: Building the ML model**\n",
    "\n",
    "In this step, we will be building the k-means clustering model using PySpark's ML API."
   ]
  },
  {
   "cell_type": "code",
   "execution_count": 78,
   "id": "47368260-9d23-4cc3-b51d-d03507ea2399",
   "metadata": {
    "tags": []
   },
   "outputs": [],
   "source": [
    "# identify the number of clusters using the elbow method\n",
    "cost = np.zeros(10)\n",
    "evaluator = ClusteringEvaluator(predictionCol='prediction', featuresCol='standardised', metricName='silhouette', distanceMeasure='squaredEuclidean')\n",
    "\n",
    "for i in range(2, 10):\n",
    "    KMeans_algo = KMeans(featuresCol='standardised', k=i)\n",
    "    KMeans_fit = KMeans_algo.fit(data_scale_output)\n",
    "    output = KMeans_fit.transform(data_scale_output)\n",
    "    cost[i] = KMeans_fit.summary.trainingCost"
   ]
  },
  {
   "cell_type": "code",
   "execution_count": 80,
   "id": "9456ed94-d5f5-4262-b01b-836fb85a3173",
   "metadata": {
    "tags": []
   },
   "outputs": [
    {
     "data": {
      "image/png": "[encoded data removed]",
      "text/plain": [
       "<Figure size 640x480 with 1 Axes>"
      ]
     },
     "metadata": {},
     "output_type": "display_data"
    }
   ],
   "source": [
    "# view the results in a line chart\n",
    "df_cost = pd.DataFrame(cost[2:])\n",
    "df_cost.columns = [\"cost\"]\n",
    "new_col = range(2, 10)\n",
    "df_cost.insert(0, 'cluster', new_col)\n",
    "\n",
    "pl.plot(df_cost.cluster, df_cost.cost)\n",
    "pl.xlabel('Number of clusters')\n",
    "pl.ylabel('Score')\n",
    "pl.title('Elbow Curve')\n",
    "pl.show()"
   ]
  },
  {
   "cell_type": "markdown",
   "id": "bc4b8743-c517-4c64-a07e-092f2488d161",
   "metadata": {},
   "source": [
    "The plot above indicates that there is are inflection points at 4 and 6 clusters. We will try both to observe which results in a better segmentation.\n",
    "\n",
    "**4 segment model**"
   ]
  },
  {
   "cell_type": "code",
   "execution_count": 82,
   "id": "37ce711c-65df-49e1-8624-98a7d8a048e3",
   "metadata": {
    "tags": []
   },
   "outputs": [
    {
     "name": "stdout",
     "output_type": "stream",
     "text": [
      "+--------+---------+------------------+----------+------------------------------------+---------------------------------------------------------------+----------+\n",
      "|recency |frequency|monetary_value    |CustomerID|features                            |standardised                                                   |prediction|\n",
      "+--------+---------+------------------+----------+------------------------------------+---------------------------------------------------------------+----------+\n",
      "|5580    |14       |226.14            |16250     |[5580.0,14.0,226.14]                |[4.5655434635006486E-4,0.45450804304970194,0.07578116853200018]|3         |\n",
      "|2704800 |121      |375.65            |15574     |[2704800.0,121.0,375.65]            |[0.22130612831678412,3.928248086358138,0.1258830634078264]     |0         |\n",
      "|54453660|20       |110.55000000000001|13610     |[5.445366E7,20.0,110.55000000000001]|[4.455386227180766,0.649297204356717,0.03704611382865756]      |1         |\n",
      "|54543900|47       |852.6800000000002 |16320     |[5.45439E7,47.0,852.6800000000002]  |[4.462769643706685,1.525848430238285,0.28573930655286955]      |1         |\n",
      "|59799420|1        |-2.55             |13282     |[5.979942E7,1.0,-2.55]              |[4.892775109357167,0.03246486021783585,-8.54523656834706E-4]   |1         |\n",
      "+--------+---------+------------------+----------+------------------------------------+---------------------------------------------------------------+----------+\n",
      "only showing top 5 rows\n",
      "\n"
     ]
    }
   ],
   "source": [
    "num_clus = 4\n",
    "\n",
    "KMeans_algo = KMeans(featuresCol='standardised', k=num_clus)\n",
    "KMeans_fit = KMeans_algo.fit(data_scale_output)\n",
    "\n",
    "# assign each customer to a cluster\n",
    "preds = KMeans_fit.transform(data_scale_output)\n",
    "preds.show(5, 0)"
   ]
  },
  {
   "cell_type": "code",
   "execution_count": 84,
   "id": "42367f14-ecf0-4efe-924a-3544eebd4d69",
   "metadata": {
    "tags": []
   },
   "outputs": [
    {
     "data": {
      "image/png": "[encoded data removed]",
      "text/plain": [
       "<Figure size 640x480 with 1 Axes>"
      ]
     },
     "metadata": {},
     "output_type": "display_data"
    },
    {
     "data": {
      "image/png": "[encoded data removed]",
      "text/plain": [
       "<Figure size 640x480 with 1 Axes>"
      ]
     },
     "metadata": {},
     "output_type": "display_data"
    },
    {
     "data": {
      "image/png": "[encoded data removed]",
      "text/plain": [
       "<Figure size 640x480 with 1 Axes>"
      ]
     },
     "metadata": {},
     "output_type": "display_data"
    }
   ],
   "source": [
    "df_viz = preds.select('recency', 'frequency', 'monetary_value', 'prediction')\n",
    "df_viz = df_viz.toPandas()\n",
    "avg_df = df_viz.groupby(['prediction'], as_index=False).mean()\n",
    "\n",
    "features_list = ['recency', 'frequency', 'monetary_value']\n",
    "\n",
    "for feat in features_list:\n",
    "    sns.barplot(x='prediction', y=str(feat), data=avg_df)\n",
    "    sns.despine()\n",
    "    plt.show()"
   ]
  },
  {
   "cell_type": "code",
   "execution_count": 86,
   "id": "f4daa498-cd89-46db-bedf-77f713bde685",
   "metadata": {
    "tags": []
   },
   "outputs": [
    {
     "data": {
      "text/html": [
       "<div>\n",
       "<style scoped>\n",
       "    .dataframe tbody tr th:only-of-type {\n",
       "        vertical-align: middle;\n",
       "    }\n",
       "\n",
       "    .dataframe tbody tr th {\n",
       "        vertical-align: top;\n",
       "    }\n",
       "\n",
       "    .dataframe thead th {\n",
       "        text-align: right;\n",
       "    }\n",
       "</style>\n",
       "<table border=\"1\" class=\"dataframe\">\n",
       "  <thead>\n",
       "    <tr style=\"text-align: right;\">\n",
       "      <th></th>\n",
       "      <th>prediction</th>\n",
       "      <th>recency</th>\n",
       "      <th>frequency</th>\n",
       "      <th>monetary_value</th>\n",
       "    </tr>\n",
       "  </thead>\n",
       "  <tbody>\n",
       "    <tr>\n",
       "      <th>0</th>\n",
       "      <td>0</td>\n",
       "      <td>4.821621e+07</td>\n",
       "      <td>128.653595</td>\n",
       "      <td>1545.708301</td>\n",
       "    </tr>\n",
       "    <tr>\n",
       "      <th>1</th>\n",
       "      <td>1</td>\n",
       "      <td>5.229763e+07</td>\n",
       "      <td>17.565426</td>\n",
       "      <td>337.123105</td>\n",
       "    </tr>\n",
       "    <tr>\n",
       "      <th>2</th>\n",
       "      <td>2</td>\n",
       "      <td>5.253486e+07</td>\n",
       "      <td>1.000000</td>\n",
       "      <td>-168469.600000</td>\n",
       "    </tr>\n",
       "    <tr>\n",
       "      <th>3</th>\n",
       "      <td>3</td>\n",
       "      <td>2.898847e+07</td>\n",
       "      <td>17.636364</td>\n",
       "      <td>283.464790</td>\n",
       "    </tr>\n",
       "  </tbody>\n",
       "</table>\n",
       "</div>"
      ],
      "text/plain": [
       "   prediction       recency   frequency  monetary_value\n",
       "0           0  4.821621e+07  128.653595     1545.708301\n",
       "1           1  5.229763e+07   17.565426      337.123105\n",
       "2           2  5.253486e+07    1.000000  -168469.600000\n",
       "3           3  2.898847e+07   17.636364      283.464790"
      ]
     },
     "execution_count": 86,
     "metadata": {},
     "output_type": "execute_result"
    }
   ],
   "source": [
    "avg_df"
   ]
  },
  {
   "cell_type": "markdown",
   "id": "51e8ce07-961b-4071-9b8f-4412bc9142c3",
   "metadata": {},
   "source": [
    "Here is an overview of the characteristics displayed by customers in each cluster:\n",
    "- Cluster 0: Customers in this segment display high recency and frequency, and how monetary value. They are regular customers that possibly tend to buy higher-value items or make bulk purchases.\n",
    "- Cluster 1: Customers in this segment display high recency, low frequency and medium monetary value. These may be newer customers who have just started doing business with the company.\n",
    "- Cluster 2: Customers in this segment display high recency, but very low frequency and negative monetary value. These could be new customers that have been unhappy with the product received and returned their purchase. These customers are highly likely to stop doing business with the company.\n",
    "- Cluster 3: Customers in this segment display medium recency, low frequency and medium monetary value. These customers have been seen on the platform in the recent past, but don't visit often.\n",
    "\n",
    "**6 segment model**\n",
    "\n",
    "Let's see if more segments provide a better segmentation."
   ]
  },
  {
   "cell_type": "code",
   "execution_count": 91,
   "id": "8d63f143-afee-4716-9ee3-3c21c372226e",
   "metadata": {
    "tags": []
   },
   "outputs": [
    {
     "name": "stdout",
     "output_type": "stream",
     "text": [
      "+--------+---------+------------------+----------+------------------------------------+---------------------------------------------------------------+----------+\n",
      "|recency |frequency|monetary_value    |CustomerID|features                            |standardised                                                   |prediction|\n",
      "+--------+---------+------------------+----------+------------------------------------+---------------------------------------------------------------+----------+\n",
      "|5580    |14       |226.14            |16250     |[5580.0,14.0,226.14]                |[4.5655434635006486E-4,0.45450804304970194,0.07578116853200018]|5         |\n",
      "|2704800 |121      |375.65            |15574     |[2704800.0,121.0,375.65]            |[0.22130612831678412,3.928248086358138,0.1258830634078264]     |5         |\n",
      "|54453660|20       |110.55000000000001|13610     |[5.445366E7,20.0,110.55000000000001]|[4.455386227180766,0.649297204356717,0.03704611382865756]      |1         |\n",
      "|54543900|47       |852.6800000000002 |16320     |[5.45439E7,47.0,852.6800000000002]  |[4.462769643706685,1.525848430238285,0.28573930655286955]      |0         |\n",
      "|59799420|1        |-2.55             |13282     |[5.979942E7,1.0,-2.55]              |[4.892775109357167,0.03246486021783585,-8.54523656834706E-4]   |1         |\n",
      "+--------+---------+------------------+----------+------------------------------------+---------------------------------------------------------------+----------+\n",
      "only showing top 5 rows\n",
      "\n"
     ]
    }
   ],
   "source": [
    "num_clus = 6\n",
    "\n",
    "KMeans_algo = KMeans(featuresCol='standardised', k=num_clus)\n",
    "KMeans_fit = KMeans_algo.fit(data_scale_output)\n",
    "\n",
    "# assign each customer to a cluster\n",
    "preds = KMeans_fit.transform(data_scale_output)\n",
    "preds.show(5, 0)"
   ]
  },
  {
   "cell_type": "code",
   "execution_count": 92,
   "id": "d9afba85-1701-4e16-a0d2-20e868bcde6c",
   "metadata": {
    "tags": []
   },
   "outputs": [
    {
     "data": {
      "image/png": "[encoded data removed]",
      "text/plain": [
       "<Figure size 640x480 with 1 Axes>"
      ]
     },
     "metadata": {},
     "output_type": "display_data"
    },
    {
     "data": {
      "image/png": "[encoded data removed]",
      "text/plain": [
       "<Figure size 640x480 with 1 Axes>"
      ]
     },
     "metadata": {},
     "output_type": "display_data"
    },
    {
     "data": {
      "image/png": "[encoded data removed]",
      "text/plain": [
       "<Figure size 640x480 with 1 Axes>"
      ]
     },
     "metadata": {},
     "output_type": "display_data"
    }
   ],
   "source": [
    "df_viz = preds.select('recency', 'frequency', 'monetary_value', 'prediction')\n",
    "df_viz = df_viz.toPandas()\n",
    "avg_df = df_viz.groupby(['prediction'], as_index=False).mean()\n",
    "\n",
    "features_list = ['recency', 'frequency', 'monetary_value']\n",
    "\n",
    "for feat in features_list:\n",
    "    sns.barplot(x='prediction', y=str(feat), data=avg_df)\n",
    "    sns.despine()\n",
    "    plt.show()"
   ]
  },
  {
   "cell_type": "code",
   "execution_count": 93,
   "id": "267f2a27-2ea2-4815-8ae9-a01e33c53be1",
   "metadata": {
    "tags": []
   },
   "outputs": [
    {
     "data": {
      "text/html": [
       "<div>\n",
       "<style scoped>\n",
       "    .dataframe tbody tr th:only-of-type {\n",
       "        vertical-align: middle;\n",
       "    }\n",
       "\n",
       "    .dataframe tbody tr th {\n",
       "        vertical-align: top;\n",
       "    }\n",
       "\n",
       "    .dataframe thead th {\n",
       "        text-align: right;\n",
       "    }\n",
       "</style>\n",
       "<table border=\"1\" class=\"dataframe\">\n",
       "  <thead>\n",
       "    <tr style=\"text-align: right;\">\n",
       "      <th></th>\n",
       "      <th>prediction</th>\n",
       "      <th>recency</th>\n",
       "      <th>frequency</th>\n",
       "      <th>monetary_value</th>\n",
       "    </tr>\n",
       "  </thead>\n",
       "  <tbody>\n",
       "    <tr>\n",
       "      <th>0</th>\n",
       "      <td>0</td>\n",
       "      <td>5.020494e+07</td>\n",
       "      <td>59.776498</td>\n",
       "      <td>697.270461</td>\n",
       "    </tr>\n",
       "    <tr>\n",
       "      <th>1</th>\n",
       "      <td>1</td>\n",
       "      <td>5.549455e+07</td>\n",
       "      <td>12.995521</td>\n",
       "      <td>306.014408</td>\n",
       "    </tr>\n",
       "    <tr>\n",
       "      <th>2</th>\n",
       "      <td>2</td>\n",
       "      <td>5.253486e+07</td>\n",
       "      <td>1.000000</td>\n",
       "      <td>-168469.600000</td>\n",
       "    </tr>\n",
       "    <tr>\n",
       "      <th>3</th>\n",
       "      <td>3</td>\n",
       "      <td>4.020435e+07</td>\n",
       "      <td>13.165785</td>\n",
       "      <td>256.269277</td>\n",
       "    </tr>\n",
       "    <tr>\n",
       "      <th>4</th>\n",
       "      <td>4</td>\n",
       "      <td>4.771105e+07</td>\n",
       "      <td>184.516129</td>\n",
       "      <td>2678.193548</td>\n",
       "    </tr>\n",
       "    <tr>\n",
       "      <th>5</th>\n",
       "      <td>5</td>\n",
       "      <td>1.202362e+07</td>\n",
       "      <td>20.168367</td>\n",
       "      <td>256.654592</td>\n",
       "    </tr>\n",
       "  </tbody>\n",
       "</table>\n",
       "</div>"
      ],
      "text/plain": [
       "   prediction       recency   frequency  monetary_value\n",
       "0           0  5.020494e+07   59.776498      697.270461\n",
       "1           1  5.549455e+07   12.995521      306.014408\n",
       "2           2  5.253486e+07    1.000000  -168469.600000\n",
       "3           3  4.020435e+07   13.165785      256.269277\n",
       "4           4  4.771105e+07  184.516129     2678.193548\n",
       "5           5  1.202362e+07   20.168367      256.654592"
      ]
     },
     "execution_count": 93,
     "metadata": {},
     "output_type": "execute_result"
    }
   ],
   "source": [
    "avg_df"
   ]
  },
  {
   "cell_type": "markdown",
   "id": "7875fc3d-7190-40b7-b759-f86d833c1b3c",
   "metadata": {},
   "source": [
    "Here is an overview of the characteristics displayed by customers in each cluster:\n",
    "- Cluster 0: Customers in this segment display high recency and medium frequency and monetary value. They have been seen very recently on the platform, but don't always make purchases.\n",
    "- Cluster 1: Customers in this segment display high recency, but low freqency and low monetary value. They also have been seen very recently, but rarely make purchases and these tend to be of cheaper-value items. \n",
    "- Cluster 2: Customers in this segment display high recency, but very low frequency and negative monetary value. These could be new customers who were unhappy with their product and returned it. These customers are highly likely to stop doing business with the company.\n",
    "- Cluster 3: Customers in this segment display lower recency, low frequency and low monetary value. They visit the platform less frequently and when they do, make cheaper purchases. These are customers less likely to make purchases in the future.\n",
    "- Cluster 4: Customers in this segment display high recency, very high frequency and high monetary value. These are loyal and frequent customers that make high-value or bulk purchases.\n",
    "- Cluster 5: Customers in this segment display low recency, medium frequency and medium monetary value. These are customers that haven't visited the platform recently, but do visit fairly often and may possibly make more purchases in the future."
   ]
  },
  {
   "cell_type": "code",
   "execution_count": null,
   "id": "ccaa9114-0467-4f02-9027-2d3c90f033ac",
   "metadata": {},
   "outputs": [],
   "source": []
  }
 ],
 "metadata": {
  "kernelspec": {
   "display_name": "Python 3 (ipykernel)",
   "language": "python",
   "name": "python3"
  },
  "language_info": {
   "codemirror_mode": {
    "name": "ipython",
    "version": 3
   },
   "file_extension": ".py",
   "mimetype": "text/x-python",
   "name": "python",
   "nbconvert_exporter": "python",
   "pygments_lexer": "ipython3",
   "version": "3.10.10"
  }
 },
 "nbformat": 4,
 "nbformat_minor": 5
}
